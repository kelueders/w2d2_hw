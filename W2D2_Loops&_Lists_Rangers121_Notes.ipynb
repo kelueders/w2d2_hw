{
 "cells": [
  {
   "cell_type": "markdown",
   "metadata": {},
   "source": [
    "# Functions, Scoping, Data Collections 1 & List Comprehensions"
   ]
  },
  {
   "cell_type": "markdown",
   "metadata": {},
   "source": [
    "## Tasks Today:\n",
    "\n",
    "<i>Monday Additions (for loops)</i>\n",
    "\n",
    "1) For Loops <br>\n",
    " &nbsp;&nbsp;&nbsp;&nbsp; a) Using 'in' keyword <br>\n",
    " &nbsp;&nbsp;&nbsp;&nbsp; b) Continue Statement <br>\n",
    " &nbsp;&nbsp;&nbsp;&nbsp; c) Break Statement <br>\n",
    " &nbsp;&nbsp;&nbsp;&nbsp; d) Pass Statement <br>\n",
    " &nbsp;&nbsp;&nbsp;&nbsp; e) Double For Loops <br>\n",
    "2) While Loops <br>\n",
    " &nbsp;&nbsp;&nbsp;&nbsp; a) Looping 'While True' <br>\n",
    " &nbsp;&nbsp;&nbsp;&nbsp; b) While and For Loops Used Together <br>\n",
    " \n",
    "3) Lists <br>\n",
    " &nbsp;&nbsp;&nbsp;&nbsp; a) Declaring Lists <br>\n",
    " &nbsp;&nbsp;&nbsp;&nbsp; b) Indexing a List <br>\n",
    " &nbsp;&nbsp;&nbsp;&nbsp; c) .append() <br>\n",
    " &nbsp;&nbsp;&nbsp;&nbsp; d) .insert() <br>\n",
    " &nbsp;&nbsp;&nbsp;&nbsp; e) .pop() <br>\n",
    " &nbsp;&nbsp;&nbsp;&nbsp; f) .remove() <br>\n",
    " &nbsp;&nbsp;&nbsp;&nbsp; g) del() <br>\n",
    " &nbsp;&nbsp;&nbsp;&nbsp; h) Concatenating Two Lists <br>\n",
    " &nbsp;&nbsp;&nbsp;&nbsp; i) Lists Within Lists <br>\n",
    " &nbsp;&nbsp;&nbsp;&nbsp; j) Looping Through Lists <br>\n",
    "4) Working With Lists <br>\n",
    " &nbsp;&nbsp;&nbsp;&nbsp; a) min() <br>\n",
    " &nbsp;&nbsp;&nbsp;&nbsp; b) max() <br>\n",
    " &nbsp;&nbsp;&nbsp;&nbsp; c) sum() <br>\n",
    " &nbsp;&nbsp;&nbsp;&nbsp; d) sort() <br>\n",
    " &nbsp;&nbsp;&nbsp;&nbsp; e) Copying a List <br>\n",
    " &nbsp;&nbsp;&nbsp;&nbsp; f) 'in' keyword <br>\n",
    " &nbsp;&nbsp;&nbsp;&nbsp; g) 'not in' keyword <br>\n",
    " &nbsp;&nbsp;&nbsp;&nbsp; i) Checking an Empty List <br>\n",
    " &nbsp;&nbsp;&nbsp;&nbsp; j) Removing Instances with a Loop <br> \n",
    "5) List Comprehensions <br>\n",
    "6) Tuples <br>\n",
    " &nbsp;&nbsp;&nbsp;&nbsp; a) sorted() <br>\n"
   ]
  },
  {
   "cell_type": "markdown",
   "metadata": {},
   "source": [
    "### For Loops"
   ]
  },
  {
   "cell_type": "code",
   "execution_count": 3,
   "metadata": {},
   "outputs": [
    {
     "name": "stdout",
     "output_type": "stream",
     "text": [
      "0\n",
      "1\n",
      "2\n",
      "3\n",
      "4\n",
      "5\n",
      "6\n",
      "7\n",
      "8\n",
      "9\n",
      "\n",
      "\n",
      "K\n",
      "a\n",
      "t\n",
      "e\n",
      "this is a space\n",
      "L\n",
      "u\n",
      "e\n",
      "d\n",
      "e\n",
      "r\n",
      "s\n"
     ]
    }
   ],
   "source": [
    "# for keyword, counter/iterator, in keyword, object\n",
    "for i in range(10):\n",
    "    print(i)\n",
    "    \n",
    "# we can also loop through a string and get each of the letters back\n",
    "print(\"\\n\")    \n",
    "name = \"Kate Lueders\"    \n",
    "for letter in name:\n",
    "    if letter == \" \":\n",
    "        print('this is a space')\n",
    "    else:\n",
    "        print(letter)\n",
    "\n",
    "\n",
    "    \n"
   ]
  },
  {
   "cell_type": "markdown",
   "metadata": {},
   "source": [
    "##### Using 'in' keyword"
   ]
  },
  {
   "cell_type": "code",
   "execution_count": 4,
   "metadata": {},
   "outputs": [
    {
     "name": "stdout",
     "output_type": "stream",
     "text": [
      "0\n",
      "1\n",
      "4\n",
      "9\n",
      "16\n",
      "25\n",
      "36\n",
      "49\n",
      "64\n",
      "81\n",
      "100\n",
      "121\n",
      "144\n",
      "169\n",
      "196\n"
     ]
    }
   ],
   "source": [
    "#in is what accesses the items in an iterable\n",
    "# every for loop needs an 'in'\n",
    "for num in range(15):\n",
    "    print(num**2)\n"
   ]
  },
  {
   "cell_type": "markdown",
   "metadata": {},
   "source": [
    "##### Continue Statement"
   ]
  },
  {
   "cell_type": "code",
   "execution_count": 5,
   "metadata": {},
   "outputs": [
    {
     "name": "stdout",
     "output_type": "stream",
     "text": [
      "0\n",
      "1\n",
      "2\n",
      "3\n",
      "4\n",
      "0\n",
      "1\n",
      "2\n",
      "3\n",
      "4\n",
      "7\n",
      "8\n",
      "9\n"
     ]
    }
   ],
   "source": [
    "#continue\n",
    "# like a skip\n",
    "for i in range(5):\n",
    "    print(i)\n",
    "for i in range(10):\n",
    "    if i == 5 or i == 6:\n",
    "        continue\n",
    "    print(i)"
   ]
  },
  {
   "cell_type": "markdown",
   "metadata": {},
   "source": [
    "##### Break Statement"
   ]
  },
  {
   "cell_type": "code",
   "execution_count": 10,
   "metadata": {},
   "outputs": [
    {
     "name": "stdout",
     "output_type": "stream",
     "text": [
      "0\n",
      "1\n",
      "2\n",
      "3\n",
      "4\n",
      "5\n",
      "6\n",
      "7\n",
      "8\n",
      "9\n",
      "10\n",
      "11\n",
      "12\n",
      "13\n",
      "14\n",
      "15\n",
      "16\n",
      "17\n",
      "18\n",
      "19\n",
      "20\n",
      "21\n",
      "22\n"
     ]
    }
   ],
   "source": [
    "# this will break out of the current loop\n",
    "for i in range(100):\n",
    "    if i == 23:\n",
    "        break\n",
    "    print(i)\n"
   ]
  },
  {
   "cell_type": "markdown",
   "metadata": {},
   "source": [
    "##### Pass Statement"
   ]
  },
  {
   "cell_type": "code",
   "execution_count": null,
   "metadata": {},
   "outputs": [],
   "source": [
    "# mostly used as a placeholder, and will continue on same iteration\n",
    "# use this when you don't quite know what you're doing with the for loop yet, this can prevent\n",
    "# the code from breaking\n",
    "for i in range(1234):\n",
    "    pass\n",
    "    \n",
    "for it range(10):\n",
    "    print(10)\n",
    "    \n",
    "def do_this_later():\n",
    "    pass\n",
    "#this function is going to do great things, remember to do stuff with this function\n",
    "\n",
    "    "
   ]
  },
  {
   "cell_type": "markdown",
   "metadata": {},
   "source": [
    "##### Double For Loops"
   ]
  },
  {
   "cell_type": "code",
   "execution_count": 13,
   "metadata": {},
   "outputs": [
    {
     "name": "stdout",
     "output_type": "stream",
     "text": [
      "i =  0\n",
      "j =  0\n",
      "j =  1\n",
      "j =  2\n",
      "j =  3\n",
      "j =  4\n",
      "i =  1\n",
      "j =  0\n",
      "j =  1\n",
      "j =  2\n",
      "j =  3\n",
      "j =  4\n",
      "i =  2\n",
      "j =  0\n",
      "j =  1\n",
      "j =  2\n",
      "j =  3\n",
      "j =  4\n",
      "i =  3\n",
      "j =  0\n",
      "j =  1\n",
      "j =  2\n",
      "j =  3\n",
      "j =  4\n",
      "i =  4\n",
      "j =  0\n",
      "j =  1\n",
      "j =  2\n",
      "j =  3\n",
      "j =  4\n"
     ]
    }
   ],
   "source": [
    "# time and complexity-wise double loops are not good\n",
    "for i in range(5):\n",
    "    print(\"i = \", i)\n",
    "    for j in range(5):\n",
    "        print(\"j = \", j)"
   ]
  },
  {
   "cell_type": "markdown",
   "metadata": {},
   "source": [
    "### While Loops"
   ]
  },
  {
   "cell_type": "code",
   "execution_count": 16,
   "metadata": {},
   "outputs": [
    {
     "name": "stdout",
     "output_type": "stream",
     "text": [
      "1\n",
      "2\n",
      "3\n",
      "4\n",
      "5\n",
      "6\n",
      "7\n",
      "8\n",
      "9\n",
      "10\n",
      "11\n",
      "0\n",
      "2\n",
      "4\n",
      "6\n",
      "8\n",
      "10\n"
     ]
    }
   ],
   "source": [
    "#while keyword, condition statement\n",
    "#while loop will run based on the condition statement\n",
    "counter = 0\n",
    "while counter < 11:\n",
    "    counter += 1\n",
    "    print(counter)\n",
    "    \n",
    "# to count by twos\n",
    "counter2 = 0\n",
    "while counter2 < 11:\n",
    "    print(counter2)\n",
    "    counter2 += 2\n",
    "\n",
    "\n",
    "\n"
   ]
  },
  {
   "cell_type": "markdown",
   "metadata": {},
   "source": [
    "##### looping 'While True'"
   ]
  },
  {
   "cell_type": "code",
   "execution_count": 17,
   "metadata": {},
   "outputs": [
    {
     "name": "stdout",
     "output_type": "stream",
     "text": [
      "infinite loop\n"
     ]
    }
   ],
   "source": [
    "# true as a condition for while loop to run\n",
    "game_over = False\n",
    "\n",
    "while True:\n",
    "    print(\"infinite loop\")\n",
    "    if game_over == False:\n",
    "        break"
   ]
  },
  {
   "cell_type": "code",
   "execution_count": 19,
   "metadata": {},
   "outputs": [
    {
     "name": "stdout",
     "output_type": "stream",
     "text": [
      "infinite loop\n",
      "infinite loop\n",
      "infinite loop\n",
      "infinite loop\n",
      "infinite loop\n",
      "infinite loop\n",
      "infinite loop\n",
      "infinite loop\n",
      "infinite loop\n",
      "infinite loop\n"
     ]
    }
   ],
   "source": [
    "# flags\n",
    "game_over = True\n",
    "counter = 0\n",
    "while game_over:\n",
    "    counter += 1\n",
    "    print(\"infinite loop\")\n",
    "    if counter == 10:\n",
    "        game_over = False\n",
    "    "
   ]
  },
  {
   "cell_type": "markdown",
   "metadata": {},
   "source": [
    "##### While & For Loops Used Together"
   ]
  },
  {
   "cell_type": "code",
   "execution_count": 21,
   "metadata": {},
   "outputs": [
    {
     "name": "stdout",
     "output_type": "stream",
     "text": [
      "\n",
      " While loop iteration: 0\n",
      "For loop iteration: 0\n",
      "For loop iteration: 1\n",
      "For loop iteration: 2\n",
      "\n",
      " While loop iteration: 1\n",
      "For loop iteration: 0\n",
      "For loop iteration: 1\n",
      "For loop iteration: 2\n",
      "\n",
      " While loop iteration: 2\n",
      "For loop iteration: 0\n",
      "For loop iteration: 1\n",
      "For loop iteration: 2\n",
      "\n",
      " While loop iteration: 3\n",
      "For loop iteration: 0\n",
      "For loop iteration: 1\n",
      "For loop iteration: 2\n",
      "\n",
      " While loop iteration: 4\n",
      "For loop iteration: 0\n",
      "For loop iteration: 1\n",
      "For loop iteration: 2\n",
      "\n",
      " While loop iteration: 5\n",
      "For loop iteration: 0\n",
      "For loop iteration: 1\n",
      "For loop iteration: 2\n",
      "\n",
      " While loop iteration: 6\n",
      "For loop iteration: 0\n",
      "For loop iteration: 1\n",
      "For loop iteration: 2\n",
      "\n",
      " While loop iteration: 7\n",
      "For loop iteration: 0\n",
      "For loop iteration: 1\n",
      "For loop iteration: 2\n",
      "\n",
      " While loop iteration: 8\n",
      "For loop iteration: 0\n",
      "For loop iteration: 1\n",
      "For loop iteration: 2\n",
      "\n",
      " While loop iteration: 9\n",
      "For loop iteration: 0\n",
      "For loop iteration: 1\n",
      "For loop iteration: 2\n"
     ]
    }
   ],
   "source": [
    "j = 0\n",
    "\n",
    "while j < 10:\n",
    "    print(\"\\n While loop iteration: \" + str(j))\n",
    "    for i in range(3):\n",
    "        print(\"For loop iteration: \" + str(i))\n",
    "        \n",
    "    j += 1"
   ]
  },
  {
   "cell_type": "markdown",
   "metadata": {},
   "source": [
    "##### The Range Function"
   ]
  },
  {
   "cell_type": "code",
   "execution_count": 4,
   "metadata": {},
   "outputs": [
    {
     "name": "stdout",
     "output_type": "stream",
     "text": [
      "0\n",
      "1\n",
      "2\n",
      "3\n",
      "4\n",
      "5\n",
      "6\n",
      "7\n",
      "8\n",
      "9\n",
      "\n",
      "\n",
      "2\n",
      "3\n",
      "4\n",
      "5\n",
      "6\n",
      "7\n",
      "8\n",
      "9\n",
      "\n",
      "\n",
      "1\n",
      "4\n",
      "7\n",
      "10\n",
      "13\n",
      "16\n",
      "19\n"
     ]
    }
   ],
   "source": [
    "# range(start, stop, step) - stop is required and start defaults to 0 if none is given\n",
    "for i in range(10):\n",
    "    print(i)\n",
    "\n",
    "print(\"\\n\")\n",
    "for i in range(2, 10):  # start and stop\n",
    "    print(i)\n",
    "\n",
    "print(\"\\n\")\n",
    "for i in range(1, 20, 3): # start, stop, step\n",
    "    print(i)"
   ]
  },
  {
   "cell_type": "markdown",
   "metadata": {},
   "source": [
    "### String Manipulation Exercise"
   ]
  },
  {
   "cell_type": "code",
   "execution_count": 1,
   "metadata": {},
   "outputs": [
    {
     "name": "stdout",
     "output_type": "stream",
     "text": [
      "Connor\n",
      "Max\n",
      "Evan\n",
      "Jordan\n"
     ]
    }
   ],
   "source": [
    "names = ['    coNNor', 'max', ' EVan ', 'JORDAN']\n",
    "# HINT: You will need to use a for loop for iteration\n",
    "# Loop through the names list, remove white space and capitalize the first letter of each name. Print each new name.\n",
    "\n",
    "for name in names:\n",
    "    print(name.strip().title())\n",
    "    \n",
    "\n"
   ]
  },
  {
   "cell_type": "markdown",
   "metadata": {},
   "source": [
    "## Lists"
   ]
  },
  {
   "cell_type": "markdown",
   "metadata": {},
   "source": [
    "##### Declaring Lists"
   ]
  },
  {
   "cell_type": "code",
   "execution_count": 2,
   "metadata": {},
   "outputs": [
    {
     "name": "stdout",
     "output_type": "stream",
     "text": [
      "['Ryan', 'Alex', 'Kate', 'Saraa', 'Sam', 'Gus']\n",
      "[1, 2, 3, 4, 6, 7, 4, 5, 2]\n",
      "[1, 3, 4.5, 7.6, 'cool stuff', ['hello', 'goodbye']]\n"
     ]
    }
   ],
   "source": [
    "our_list = []    # <-- emtpy list\n",
    "# list will always be square brackets\n",
    "\n",
    "names = [\"Ryan\", \"Alex\", \"Kate\", \"Saraa\", \"Sam\", \"Gus\"]\n",
    "\n",
    "numbers = [1, 2, 3, 4, 6, 7, 4, 5, 2]\n",
    "\n",
    "print(names)\n",
    "print(numbers)\n",
    "\n",
    "stuff = [1, 3, 4.5, 7.6, \"cool stuff\", ['hello', 'goodbye']]\n",
    "\n",
    "print(stuff)"
   ]
  },
  {
   "cell_type": "markdown",
   "metadata": {},
   "source": [
    "##### Indexing a List"
   ]
  },
  {
   "cell_type": "code",
   "execution_count": 6,
   "metadata": {},
   "outputs": [
    {
     "name": "stdout",
     "output_type": "stream",
     "text": [
      "Alex\n",
      "Ryan\n",
      "Gus\n",
      "\n",
      "\n",
      "['Alex', 'Kate', 'Saraa', 'Sam', 'Gus']\n",
      "['Kate', 'Saraa', 'Sam', 'Gus']\n",
      "\n",
      "\n",
      "['Ryan', 'Alex']\n",
      "\n",
      "\n",
      "['Alex', 'Saraa', 'Gus']\n",
      "\n",
      "\n",
      "['Gus', 'Saraa', 'Alex']\n",
      "['Gus', 'Sam', 'Saraa', 'Kate', 'Alex', 'Ryan']\n"
     ]
    }
   ],
   "source": [
    "# [start: stop: step] --> last item [-1]\n",
    "# list \n",
    "names = [\"Ryan\", \"Alex\", \"Kate\", \"Saraa\", \"Sam\", \"Gus\"]\n",
    "\n",
    "# single index\n",
    "print(names[1])\n",
    "name = names[0]\n",
    "print(name)\n",
    "print(names[-1])   # -1 will always be the last item in a list\n",
    "print(\"\\n\")\n",
    "\n",
    "# print starting at specified index and going to the end of the list\n",
    "print(names[1:])\n",
    "new_names = names[2:]\n",
    "print(new_names)\n",
    "print(\"\\n\")\n",
    "\n",
    "# print starting at the beginning of the list and going to a specifiewd index\n",
    "print(names[:2])\n",
    "print(\"\\n\")\n",
    "\n",
    "# print starting at index 1 and stepping by 2\n",
    "print(names[1::2])\n",
    "print(\"\\n\")\n",
    "\n",
    "# print starting at the back and going to the front of the list\n",
    "print(names[::-2])\n",
    "reverse_list = names[::-1]\n",
    "print(reverse_list)"
   ]
  },
  {
   "cell_type": "markdown",
   "metadata": {},
   "source": [
    "# List Methods"
   ]
  },
  {
   "cell_type": "markdown",
   "metadata": {},
   "source": [
    "##### .append()"
   ]
  },
  {
   "cell_type": "code",
   "execution_count": 7,
   "metadata": {},
   "outputs": [
    {
     "name": "stdout",
     "output_type": "stream",
     "text": [
      "['Ryan', 'Tenzin', 'Austin', 'Dylan', 'Mohammad', 'Derrick']\n",
      "['Ryan', 'Tenzin', 'Austin', 'Dylan', 'Mohammad', 'Derrick', 'Aryan']\n"
     ]
    }
   ],
   "source": [
    "# will always add an element to the end of the list\n",
    "names = [\"Ryan\", \"Tenzin\", \"Austin\", \"Dylan\", \"Mohammad\"]\n",
    "\n",
    "names.append('Derrick')\n",
    "print(names)\n",
    "\n",
    "names.append('Aryan')\n",
    "print(names)\n"
   ]
  },
  {
   "cell_type": "markdown",
   "metadata": {},
   "source": [
    "##### .insert()"
   ]
  },
  {
   "cell_type": "code",
   "execution_count": 9,
   "metadata": {},
   "outputs": [
    {
     "name": "stdout",
     "output_type": "stream",
     "text": [
      "['Ryan', 'Alex', 'Marc', 'Kate', 'Saraa', 'Sam', 'Gus']\n",
      "7\n",
      "['Ryan', 'Alex', 'Marc', 'Kate', 'Saraa', 'Sam', 'Gus', 'Eduardo', 'Eduardo']\n"
     ]
    }
   ],
   "source": [
    "#our_list.insert(index, value)\n",
    "names = [\"Ryan\", \"Alex\", \"Kate\", \"Saraa\", \"Sam\", \"Gus\"]\n",
    "names.insert(2, \"Marc\")\n",
    "print(names)\n",
    "\n",
    "print(len(names))\n",
    "\n",
    "names.insert(len(names), \"Eduardo\")\n",
    "names.append(\"Eduardo\")\n",
    "\n",
    "print(names)\n"
   ]
  },
  {
   "cell_type": "markdown",
   "metadata": {},
   "source": [
    "##### .pop()"
   ]
  },
  {
   "cell_type": "code",
   "execution_count": 13,
   "metadata": {},
   "outputs": [
    {
     "name": "stdout",
     "output_type": "stream",
     "text": [
      "['Alex', 'Kate', 'Saraa', 'Sam', 'Gus']\n",
      "Saraa\n",
      "['Alex', 'Kate', 'Sam', 'Gus']\n",
      "['Alex', 'Kate', 'Sam']\n"
     ]
    }
   ],
   "source": [
    "# default is the last value if no parameter is given\n",
    "# pop returns the element that was removed in case you want to assign it into a variable\n",
    "\n",
    "names = [\"Ryan\", \"Alex\", \"Kate\", \"Saraa\", \"Sam\", \"Gus\"]\n",
    "names.pop(0)\n",
    "print(names)\n",
    "\n",
    "popped_friend = names.pop(2)\n",
    "print(popped_friend)\n",
    "print(names)\n",
    "\n",
    "names.pop()\n",
    "print(names)\n",
    "\n",
    "\n",
    "\n"
   ]
  },
  {
   "cell_type": "markdown",
   "metadata": {},
   "source": [
    "##### .remove()"
   ]
  },
  {
   "cell_type": "code",
   "execution_count": 16,
   "metadata": {},
   "outputs": [
    {
     "name": "stdout",
     "output_type": "stream",
     "text": [
      "['Billy', 'Berry', 'Bertha', 'Bob', 'Bert']\n"
     ]
    }
   ],
   "source": [
    "# value to be removed, not an index\n",
    "names = ['Bob', 'Billy', 'Berry', \"Bob\", \"Bertha\", 'Bob', \"Bob\", 'Bert']\n",
    "# names.remove(\"Bob\")\n",
    "\n",
    "for name in names:\n",
    "    if name == \"Bob\":\n",
    "        names.remove(name)\n",
    "        \n",
    "print(names)\n",
    "\n",
    "# be careful! The list will shift the indexes and it will not check every item\n",
    "# so this will leave one Bob\n"
   ]
  },
  {
   "cell_type": "code",
   "execution_count": 18,
   "metadata": {},
   "outputs": [
    {
     "name": "stdout",
     "output_type": "stream",
     "text": [
      "['Billy', 'Berry', 'Bertha', 'Bert']\n"
     ]
    }
   ],
   "source": [
    "names = ['Bob', 'Billy', 'Berry', \"Bob\", \"Bertha\", 'Bob', \"Bob\", 'Bert']\n",
    "\n",
    "while \"Bob\" in names:\n",
    "    names.remove(\"Bob\")\n",
    "    \n",
    "print(names)\n",
    "    \n",
    "# this will remove ALL the Bobs"
   ]
  },
  {
   "cell_type": "markdown",
   "metadata": {},
   "source": [
    "### Working With Lists"
   ]
  },
  {
   "cell_type": "markdown",
   "metadata": {},
   "source": [
    "##### del()"
   ]
  },
  {
   "cell_type": "code",
   "execution_count": 19,
   "metadata": {},
   "outputs": [
    {
     "name": "stdout",
     "output_type": "stream",
     "text": [
      "['Billy', 'Berry', 'Bob', 'Bertha', 'Bob', 'Bob', 'Bert']\n"
     ]
    }
   ],
   "source": [
    "# index to be removed, not value \n",
    "names = ['Bob', 'Billy', 'Berry', \"Bob\", \"Bertha\", 'Bob', \"Bob\", 'Bert']\n",
    "del(names[0])\n",
    "print(names)\n",
    "\n",
    "\n"
   ]
  },
  {
   "cell_type": "markdown",
   "metadata": {},
   "source": [
    "##### min()"
   ]
  },
  {
   "cell_type": "code",
   "execution_count": 21,
   "metadata": {},
   "outputs": [
    {
     "name": "stdout",
     "output_type": "stream",
     "text": [
      "1\n",
      "Alphalpha\n"
     ]
    }
   ],
   "source": [
    "# return the smallest item in a list\n",
    "numbers = [2, 5, 3, 12, 1, 54]\n",
    "print(min(numbers))\n",
    "\n",
    "names = [\"Alphalpha\", \"Zoop\", \"Winifred\", \"alfred\"]\n",
    "print(min(names))\n",
    "# prioritizes capital letters over lower case \n",
    "# if all are lower case it would go alphabetically"
   ]
  },
  {
   "cell_type": "markdown",
   "metadata": {},
   "source": [
    "##### max()"
   ]
  },
  {
   "cell_type": "code",
   "execution_count": 23,
   "metadata": {},
   "outputs": [
    {
     "name": "stdout",
     "output_type": "stream",
     "text": [
      "54\n",
      "alfred\n"
     ]
    }
   ],
   "source": [
    "# returns largest item in a list\n",
    "numbers = [2, 5, 3, 12, 1, 54]\n",
    "print(max(numbers))\n",
    "\n",
    "names = [\"Alphalpha\", \"Zoop\", \"Winifred\", \"alfred\"]\n",
    "print(max(names))"
   ]
  },
  {
   "cell_type": "markdown",
   "metadata": {},
   "source": [
    "##### sum()"
   ]
  },
  {
   "cell_type": "code",
   "execution_count": 24,
   "metadata": {},
   "outputs": [
    {
     "name": "stdout",
     "output_type": "stream",
     "text": [
      "77\n"
     ]
    }
   ],
   "source": [
    "# return the sum of all numbers in a list\n",
    "numbers = [2, 5, 3, 12, 1, 54]\n",
    "\n",
    "print(sum(numbers))\n",
    "\n"
   ]
  },
  {
   "cell_type": "markdown",
   "metadata": {},
   "source": [
    "##### sorted()"
   ]
  },
  {
   "cell_type": "code",
   "execution_count": 25,
   "metadata": {},
   "outputs": [
    {
     "name": "stdout",
     "output_type": "stream",
     "text": [
      "[1, 2, 3, 5, 12, 54]\n",
      "[2, 5, 3, 12, 1, 54]\n",
      "[1, 2, 3, 5, 12, 54]\n",
      "[2, 5, 3, 12, 1, 54]\n"
     ]
    }
   ],
   "source": [
    "#sorted will return a new sorted list, create a new variable\n",
    "numbers = [2, 5, 3, 12, 1, 54]\n",
    "\n",
    "print(sorted(numbers))\n",
    "\n",
    "print(numbers)\n",
    "\n",
    "sorted_list = sorted(numbers)\n",
    "print(sorted_list)\n",
    "\n",
    "print(numbers)"
   ]
  },
  {
   "cell_type": "markdown",
   "metadata": {},
   "source": [
    "##### .sort() <br>\n",
    "<p>Difference between sort and sorted, is that sorted doesn't change original list it returns a copy, while .sort changes the original list. This is the difference between \"in place\" and \"out of place\"</p>"
   ]
  },
  {
   "cell_type": "code",
   "execution_count": 26,
   "metadata": {},
   "outputs": [
    {
     "name": "stdout",
     "output_type": "stream",
     "text": [
      "[54, 12, 5, 3, 2, 1]\n"
     ]
    }
   ],
   "source": [
    "#.sort() will sort the original list\n",
    "numbers = [2, 5, 3, 12, 1, 54]\n",
    "\n",
    "numbers.sort(reverse=True)\n",
    "\n",
    "print(numbers)\n"
   ]
  },
  {
   "cell_type": "markdown",
   "metadata": {},
   "source": [
    "##### Copying a List"
   ]
  },
  {
   "cell_type": "code",
   "execution_count": 27,
   "metadata": {},
   "outputs": [
    {
     "name": "stdout",
     "output_type": "stream",
     "text": [
      "This is my original list [2, 5, 3, 12, 1, 54]\n",
      "This is my copy: [2, 5, 3, 12, 1, 54]\n"
     ]
    }
   ],
   "source": [
    "# [:] copies a list, doesn't alter original'\n",
    "numbers = [2, 5, 3, 12, 1, 54]\n",
    "\n",
    "list_copy = numbers[:]\n",
    "\n",
    "print(\"This is my original list\", numbers)\n",
    "\n",
    "print(f\"This is my copy: {list_copy}\")\n"
   ]
  },
  {
   "cell_type": "markdown",
   "metadata": {},
   "source": [
    "##### Looping Through Lists"
   ]
  },
  {
   "cell_type": "code",
   "execution_count": 31,
   "metadata": {},
   "outputs": [
    {
     "name": "stdout",
     "output_type": "stream",
     "text": [
      "Han Solo\n",
      "Leia Organa\n",
      "Luke Skywalker\n",
      "Lando Calrissian\n",
      "Mace Windu\n",
      "5\n",
      "0\n",
      "1\n",
      "2\n",
      "3\n",
      "4\n",
      "Han Solo\n",
      "Leia Organa\n",
      "Luke Skywalker\n",
      "Lando Calrissian\n",
      "Mace Windu\n",
      "0 Han Solo\n",
      "1 Leia Organa\n",
      "2 Luke Skywalker\n",
      "3 Lando Calrissian\n",
      "4 Mace Windu\n"
     ]
    }
   ],
   "source": [
    "#Two ways to loop through a list. one is by index and the other is by value, using the \"in\" keyword\n",
    "names = [\"Han Solo\", \"Leia Organa\", \"Luke Skywalker\", \"Lando Calrissian\", \"Mace Windu\"]\n",
    "\n",
    "# looping by value\n",
    "for name in names:\n",
    "    print(name)\n",
    "    \n",
    "# looping by index with range(len)\n",
    "print(len(names))\n",
    "for i in range(5):\n",
    "    print(i)\n",
    "    \n",
    "for i in range(len(names)):\n",
    "    print(names[i])\n",
    "    \n",
    "#enumerate\n",
    "for i, name in enumerate(names):\n",
    "    print(i, name)"
   ]
  },
  {
   "cell_type": "markdown",
   "metadata": {},
   "source": [
    "##### 'in' keyword"
   ]
  },
  {
   "cell_type": "code",
   "execution_count": 33,
   "metadata": {},
   "outputs": [
    {
     "name": "stdout",
     "output_type": "stream",
     "text": [
      "Hello Kate\n"
     ]
    }
   ],
   "source": [
    "names = [\"Ryan\", \"Alex\", \"Kate\", \"Saraa\", \"Sam\", \"Gus\"]\n",
    "\n",
    "if \"Gus\" in names:\n",
    "    print(\"Hello Kate\")\n",
    "elif \"Kate\" in names:\n",
    "    print(\"Good Day, Gus\")\n",
    "else:\n",
    "    print(\"So long and thanks for all the fish\")"
   ]
  },
  {
   "cell_type": "markdown",
   "metadata": {},
   "source": [
    "##### 'not in' keyword"
   ]
  },
  {
   "cell_type": "code",
   "execution_count": 35,
   "metadata": {},
   "outputs": [
    {
     "name": "stdout",
     "output_type": "stream",
     "text": [
      "Guten Tag, Jeremy\n"
     ]
    }
   ],
   "source": [
    "names = [\"Ryan\", \"Alex\", \"Kate\", \"Saraa\", \"Sam\", \"Gus\"]\n",
    "\n",
    "if \"Alex\" not in names:\n",
    "    print(\"Sorry Jeremy\")\n",
    "else:\n",
    "    print(\"Guten Tag, Jeremy\")\n",
    "\n",
    "# both of these \"in\" and \"not in\" would have to possibly tranverse the entirety of the list\n",
    "# before giving the result"
   ]
  },
  {
   "cell_type": "markdown",
   "metadata": {},
   "source": [
    "##### Checking an Empty List"
   ]
  },
  {
   "cell_type": "code",
   "execution_count": 1,
   "metadata": {},
   "outputs": [
    {
     "name": "stdout",
     "output_type": "stream",
     "text": [
      "That is an empty list. Would ya just look at it\n",
      "no\n"
     ]
    }
   ],
   "source": [
    "l_2 = []\n",
    "l_3 = None\n",
    "# There is a difference between None and an empty list\n",
    "\n",
    "if l_2 == []:\n",
    "    print(\"That is an empty list. Would ya just look at it\")\n",
    "    \n",
    "if l_3 == l_2:\n",
    "    print(\"yes\")\n",
    "else: \n",
    "    print(\"no\")"
   ]
  },
  {
   "cell_type": "markdown",
   "metadata": {},
   "source": [
    "##### Removing Instances with a Loop"
   ]
  },
  {
   "cell_type": "code",
   "execution_count": null,
   "metadata": {},
   "outputs": [],
   "source": [
    "#while, remove\n"
   ]
  },
  {
   "cell_type": "markdown",
   "metadata": {},
   "source": [
    "### List Exercise <br>\n",
    "<p>Remove all duplicates<br><b>Extra: Create a program that will remove any duplicates from a given list</b></p>"
   ]
  },
  {
   "cell_type": "code",
   "execution_count": null,
   "metadata": {},
   "outputs": [],
   "source": [
    "names = ['connor', 'connor', 'bob', 'connor', 'evan', 'max', 'evan', 2, 2, 2, 3, 3, 4, 'bob', 'kevin']\n",
    "# Hint 1: You will need an append\n",
    "# Hint 2: Using an empty list will make life easier\n",
    "\n",
    "names = list(dict.fromkeys(names))\n",
    "print(names)\n",
    "\n",
    "unique = []\n",
    "for i in names:\n",
    "    if i not in unique:\n",
    "        unique.append(i)\n",
    "    print(unique)\n",
    "    \n",
    "no_dupes = []\n",
    "for name in names:\n",
    "    if name not in no_dupes:\n",
    "        no_dupes.append(name)\n",
    "print(no_dupes)\n",
    "\n"
   ]
  },
  {
   "cell_type": "markdown",
   "metadata": {},
   "source": [
    "### List Comprehensions <br>\n",
    "<p>Creating a quickly generated list to work with<br>*result*  = [*transform*    *iteration*         *filter*     ]</p>"
   ]
  },
  {
   "cell_type": "markdown",
   "metadata": {},
   "source": [
    "##### In a list comprehension we have a few pieces:\n",
    "1. The first is the counter/ variable - IN this the variable is x\n",
    "2. then we have a transform for the variable\n",
    "3. The finale part of a list comp is called the condition\n",
    "\n",
    "```python\n",
    "    [transform, iteration/variable, condition]\n",
    "```"
   ]
  },
  {
   "cell_type": "code",
   "execution_count": 37,
   "metadata": {
    "scrolled": true
   },
   "outputs": [
    {
     "name": "stdout",
     "output_type": "stream",
     "text": [
      "[4, 16, 25, 36, 49, 64, 81, 100]\n",
      "[4, 16, 25, 36, 49, 64, 81, 100]\n",
      "[4, 16, 36, 64, 100]\n"
     ]
    }
   ],
   "source": [
    "nums = [2, 4, 5, 6, 7, 8, 9, 10]\n",
    "nums_squared = []\n",
    "for num in nums:\n",
    "    nums_squared.append(num**2)\n",
    "\n",
    "print(nums_squared)\n",
    "\n",
    "nums_squared2 = [num**2 for num in nums]\n",
    "\n",
    "print(nums_squared2)\n",
    "\n",
    "nums_squared3 = [num**2 for num in nums if num%2==0]\n",
    "\n",
    "print(nums_squared3)"
   ]
  },
  {
   "cell_type": "markdown",
   "metadata": {},
   "source": [
    "There are a few benefits to using List comprehensions. The most obvious would be that we now have shorter code to work with instead of using 3+ lines of code in the for loop variant.\n",
    "\n",
    "Another is an added benefit to memory usage. Since the list's memory is allocated first before adding elements to it, we don't have to resize the list once we add elements to it.\n",
    "\n",
    "Lastly, list comprehensions are considered the \"pythonic\" way to write code by the PEP8 standards (Python Style Guide)"
   ]
  },
  {
   "cell_type": "markdown",
   "metadata": {},
   "source": [
    "### Tuples <br>\n",
    "<p><b>Defined as an immutable list</b></p><br>Seperated by commas using parenthesis"
   ]
  },
  {
   "cell_type": "code",
   "execution_count": 38,
   "metadata": {},
   "outputs": [
    {
     "name": "stdout",
     "output_type": "stream",
     "text": [
      "(1, 2, 3)\n",
      "(4, 5, 6)\n"
     ]
    }
   ],
   "source": [
    "tup_1 = (1, 2, 3)\n",
    "tup_2 = 4, 5, 6\n",
    "\n",
    "print(tup_1)\n",
    "print(tup_2)\n",
    "\n",
    "print(type(tup_1))\n",
    "\n",
    "# can loop through because tuple is an iterable\n",
    "for num in tup_1:\n",
    "    print(num)\n",
    "    \n",
    "print(tup_1[1])"
   ]
  },
  {
   "cell_type": "code",
   "execution_count": 39,
   "metadata": {},
   "outputs": [
    {
     "ename": "AttributeError",
     "evalue": "'tuple' object has no attribute 'add'",
     "output_type": "error",
     "traceback": [
      "\u001b[1;31m---------------------------------------------------------------------------\u001b[0m",
      "\u001b[1;31mAttributeError\u001b[0m                            Traceback (most recent call last)",
      "Cell \u001b[1;32mIn[39], line 9\u001b[0m\n\u001b[0;32m      1\u001b[0m \u001b[38;5;66;03m# things you cannot do with tuples:\u001b[39;00m\n\u001b[0;32m      2\u001b[0m \u001b[38;5;66;03m# you cannot alter them\u001b[39;00m\n\u001b[0;32m      3\u001b[0m \u001b[38;5;66;03m# you cannot add to them\u001b[39;00m\n\u001b[0;32m      4\u001b[0m \u001b[38;5;66;03m# you cannot remove from them\u001b[39;00m\n\u001b[0;32m      5\u001b[0m \u001b[38;5;66;03m# leave tuples alone\u001b[39;00m\n\u001b[0;32m      7\u001b[0m tup_1 \u001b[38;5;241m=\u001b[39m (\u001b[38;5;241m1\u001b[39m, \u001b[38;5;241m2\u001b[39m, \u001b[38;5;241m3\u001b[39m)\n\u001b[1;32m----> 9\u001b[0m \u001b[43mtup_1\u001b[49m\u001b[38;5;241;43m.\u001b[39;49m\u001b[43madd\u001b[49m(\u001b[38;5;241m1\u001b[39m)\n",
      "\u001b[1;31mAttributeError\u001b[0m: 'tuple' object has no attribute 'add'"
     ]
    }
   ],
   "source": [
    "# things you cannot do with tuples:\n",
    "# you cannot alter them\n",
    "# you cannot add to them\n",
    "# you cannot remove from them\n",
    "# leave tuples alone\n",
    "\n",
    "tup_1 = (1, 2, 3)\n",
    "\n",
    "tup_1.add(1)  # will give an error"
   ]
  },
  {
   "cell_type": "markdown",
   "metadata": {},
   "source": [
    "##### sorted()"
   ]
  },
  {
   "cell_type": "code",
   "execution_count": 41,
   "metadata": {},
   "outputs": [
    {
     "name": "stdout",
     "output_type": "stream",
     "text": [
      "[1, 5, 10, 20, 95, 123]\n",
      "(1, 5, 10, 20, 95, 123)\n"
     ]
    }
   ],
   "source": [
    "tup = (20, 5, 1, 10, 95, 123)\n",
    "\n",
    "sorted_tup = sorted(tup)    # changes the tuple to a list\n",
    "print(sorted_tup)    \n",
    "new_tup = tuple(sorted_tup)\n",
    "\n",
    "print(new_tup)"
   ]
  },
  {
   "cell_type": "code",
   "execution_count": 43,
   "metadata": {},
   "outputs": [
    {
     "name": "stdout",
     "output_type": "stream",
     "text": [
      "[1, 2, 3, 4, 5, 6]\n"
     ]
    }
   ],
   "source": [
    "my_list = [1, 2, 3]\n",
    "my_list2 = [4, 5, 6]\n",
    "\n",
    "my_list3 = my_list + my_list2\n",
    "\n",
    "print(my_list3)"
   ]
  },
  {
   "cell_type": "markdown",
   "metadata": {},
   "source": [
    "##### Adding values to a Tuple"
   ]
  },
  {
   "cell_type": "code",
   "execution_count": 44,
   "metadata": {},
   "outputs": [
    {
     "name": "stdout",
     "output_type": "stream",
     "text": [
      "(20, 5, 1, 10, 95, 123)\n",
      "(20, 5, 1, 10, 95, 123, 6)\n"
     ]
    }
   ],
   "source": [
    "tup = (20, 5, 1, 10, 95, 123)\n",
    "print(tup)\n",
    "tup = tup + (6, )\n",
    "\n",
    "print(tup)"
   ]
  },
  {
   "cell_type": "markdown",
   "metadata": {},
   "source": [
    "# Exercises"
   ]
  },
  {
   "cell_type": "markdown",
   "metadata": {},
   "source": [
    "## Exercise 1 <br>\n",
    "<p>Using the given list, print out a filtered version of the list with only the numbers that are less than ten</b></i></p><br>\n"
   ]
  },
  {
   "cell_type": "code",
   "execution_count": null,
   "metadata": {},
   "outputs": [],
   "source": [
    "alist = [1,11,14,5,8,9]\n",
    "\n",
    "\n",
    "\n"
   ]
  },
  {
   "cell_type": "markdown",
   "metadata": {},
   "source": [
    "## Exercise 2 <br>\n",
    "<p>Merge and sort the two lists below<br>\n",
    "<b><i>Hint: You can use the .sort() method</i></b></p>"
   ]
  },
  {
   "cell_type": "code",
   "execution_count": null,
   "metadata": {},
   "outputs": [],
   "source": [
    "l_1 = [1,2,3,4,5,6]\n",
    "l_2 = [3,4,5,6,7,8,10]\n",
    "\n",
    "\n",
    "\n"
   ]
  },
  {
   "cell_type": "markdown",
   "metadata": {},
   "source": [
    "## Exercise 3 <br>\n",
    "<p>Square every number from 1 to 15<br>\n"
   ]
  },
  {
   "cell_type": "code",
   "execution_count": null,
   "metadata": {},
   "outputs": [],
   "source": []
  },
  {
   "cell_type": "markdown",
   "metadata": {},
   "source": [
    "## Exercise 4<br>\n",
    "<p>Using List Comprehension and the given list, print out a filtered list with \n",
    "only the names that start with the letter 'a'. \n",
    "The names in the outputted list should be title cased and have no whitespace.<br>\n"
   ]
  },
  {
   "cell_type": "code",
   "execution_count": null,
   "metadata": {},
   "outputs": [],
   "source": [
    "names_list = ['   amy', 'Briant', 'Ryan ', ' Alex', 'steve', '  ']\n",
    "#expected output = ['Amy', 'Alex']"
   ]
  },
  {
   "cell_type": "markdown",
   "metadata": {},
   "source": [
    "## Exercise 5 <br>\n",
    "<p>Print all Prime numbers from 1 to 100<br>\n"
   ]
  },
  {
   "cell_type": "code",
   "execution_count": null,
   "metadata": {},
   "outputs": [],
   "source": []
  }
 ],
 "metadata": {
  "kernelspec": {
   "display_name": "Python 3 (ipykernel)",
   "language": "python",
   "name": "python3"
  },
  "language_info": {
   "codemirror_mode": {
    "name": "ipython",
    "version": 3
   },
   "file_extension": ".py",
   "mimetype": "text/x-python",
   "name": "python",
   "nbconvert_exporter": "python",
   "pygments_lexer": "ipython3",
   "version": "3.10.11"
  }
 },
 "nbformat": 4,
 "nbformat_minor": 2
}
